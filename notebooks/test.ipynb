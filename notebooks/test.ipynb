{
 "cells": [
  {
   "cell_type": "code",
   "execution_count": 2,
   "metadata": {},
   "outputs": [],
   "source": [
    "\n",
    "# Suggestions for the athlete: unit: min-max normalised z-score values\n",
    "Suggestion = [\n",
    "    [0.5, 0.0, 0.5, 0.0, 0.5, 0.0, 0.5],\n",
    "    [0.7, 0.0, 0.7, 0.0, 0.7, 0.0, 0.7],\n",
    "    [0.1, 0.0, 0.1, 0.0, 0.1, 0.0, 0.1],\n",
    "    [0.2, 0.0, 0.2, 0.0, 0.2, 0.0, 0.2],\n",
    "    [0.0, 1.0, 0.0, 1.0, 1.0, 0.0, 1.0],\n",
    "    [0.0, 0.0, 0.0, 0.0, 0.0, 0.0, 0.0],\n",
    "    [0.0, 0.0, 0.0, 0.0, 0.0, 0.0, 0.0]\n",
    "]\n",
    "\n",
    "# output by model: Range of stdv and mean\n",
    "range = {\n",
    "    \"nr. sessions\": {\"min\": 0, \"max\": 4},\n",
    "    \"total km\": {\"min\": 0, \"max\": 4},\n",
    "    \"km Z3-4\": {\"min\": 0, \"max\": 4},\n",
    "    \"km Z5-T1-T2\": {\"min\": 0, \"max\": 4},\n",
    "    \"km sprinting\": {\"min\": 0, \"max\": 4},\n",
    "    \"strength training\": {\"min\": 0, \"max\": 1},\n",
    "    \"hours alternative\": {\"min\": 0, \"max\": 1}\n",
    "}\n",
    "\n",
    "# Retrieved from database\n",
    "athlete_data = {\n",
    "    \"nr. sessions\": {\"mean\": 1, \"std_dev\": 1},\n",
    "    \"total km\": {\"mean\": 5, \"std_dev\": 1},\n",
    "    \"km Z3-4\": {\"mean\": 1, \"std_dev\": 1},\n",
    "    \"km Z5-T1-T2\": {\"mean\": 2, \"std_dev\": 1},\n",
    "    \"km sprinting\": {\"mean\": 0.5, \"std_dev\": 1},\n",
    "    \"strength training\": {\"mean\": 0.4, \"std_dev\": 1},\n",
    "    \"hours alternative\": {\"mean\": 0.5, \"std_dev\": 1}\n",
    "}\n",
    "\n",
    "def convert_to_absolute(suggestion, range_data, athlete_data):\n",
    "    keys = list(range_data.keys())\n",
    "    absolute_suggestion = []\n",
    "\n",
    "    for row in suggestion:\n",
    "        absolute_row = []\n",
    "        for i, value in enumerate(row):\n",
    "            key = keys[i]\n",
    "            min_val = range_data[key]['min']\n",
    "            max_val = range_data[key]['max']\n",
    "            mean = athlete_data[key]['mean']\n",
    "            std_dev = athlete_data[key]['std_dev']\n",
    "\n",
    "            # Scale the value using the range of the dataset\n",
    "            scaled_value = value * (max_val - min_val) + min_val\n",
    "\n",
    "            # Convert to absolute terms using the athlete's mean and standard deviation\n",
    "            absolute_value = scaled_value * std_dev + mean\n",
    "\n",
    "            absolute_row.append(absolute_value)\n",
    "\n",
    "        absolute_suggestion.append(absolute_row)\n",
    "\n",
    "    return absolute_suggestion\n",
    "\n",
    "absolute_suggestion = convert_to_absolute(Suggestion, range, athlete_data)"
   ]
  },
  {
   "cell_type": "code",
   "execution_count": 6,
   "metadata": {},
   "outputs": [
    {
     "ename": "AttributeError",
     "evalue": "'list' object has no attribute 'dim'",
     "output_type": "error",
     "traceback": [
      "\u001b[0;31m---------------------------------------------------------------------------\u001b[0m",
      "\u001b[0;31mAttributeError\u001b[0m                            Traceback (most recent call last)",
      "Cell \u001b[0;32mIn[6], line 1\u001b[0m\n\u001b[0;32m----> 1\u001b[0m \u001b[43mabsolute_suggestion\u001b[49m\u001b[38;5;241;43m.\u001b[39;49m\u001b[43mdim\u001b[49m\n",
      "\u001b[0;31mAttributeError\u001b[0m: 'list' object has no attribute 'dim'"
     ]
    }
   ],
   "source": [
    "absolute_suggestion.s"
   ]
  },
  {
   "cell_type": "code",
   "execution_count": 7,
   "metadata": {},
   "outputs": [],
   "source": [
    "training_plan = {'day_1': {'running': {'session_1': {'warmup': {'Z2': 1.5}, 'main': {'interval_1': [{'Z5': 1.0}, {'Z2': 1.0}], 'interval_2': [{'Z5': 1.0}, {'Z2': 1.0}]}, 'cooldown': {'Z2': 1.5}}}, 'strength': 0, 'alternative': 0.5}, 'day_2': {'running': {'session_1': {'warmup': {'Z2': 1.5}, 'main': {'interval_1': [{'Z5': 1.0}, {'Z2': 1.0}]}, 'cooldown': {'Z2': 1.5}}}, 'strength': 0, 'alternative': 0.5}, 'day_3': {'running': {'session_1': {'warmup': {'Z2': 1.5}, 'main': {'interval_1': [{'Z5': 1.0}, {'Z2': 1.0}], 'interval_2': [{'Z5': 1.0}, {'Z2': 1.0}]}, 'cooldown': {'Z2': 1.5}}}, 'strength': 0, 'alternative': 0.5}, 'day_4': {'running': {'session_1': {'warmup': {'Z2': 1.5}, 'main': {'interval_1': [{'Z5': 1.0}, {'Z2': 1.0}]}, 'cooldown': {'Z2': 1.5}}}, 'strength': 0, 'alternative': 0.5}, 'day_5': {'running': {'session_1': {'warmup': {'Z2': 1.5}, 'main': {'interval_1': [{'Z5': 1.0}, {'Z2': 1.0}], 'interval_2': [{'Z5': 1.0}, {'Z2': 1.0}]}, 'cooldown': {'Z2': 1.5}}}, 'strength': 0, 'alternative': 0.5}, 'day_6': {'running': {'session_1': {'warmup': {'Z2': 1.5}, 'main': {'interval_1': [{'Z5': 1.0}, {'Z2': 1.0}]}, 'cooldown': {'Z2': 1.5}}}, 'strength': 0, 'alternative': 0.5}, 'day_7': {'running': {'session_1': {'warmup': {'Z2': 1.5}, 'main': {'interval_1': [{'Z5': 1.0}, {'Z2': 1.0}], 'interval_2': [{'Z5': 1.0}, {'Z2': 1.0}]}, 'cooldown': {'Z2': 1.5}}}, 'strength': 0, 'alternative': 0.5}}"
   ]
  },
  {
   "cell_type": "code",
   "execution_count": 8,
   "metadata": {},
   "outputs": [
    {
     "name": "stdout",
     "output_type": "stream",
     "text": [
      "{'day_1': {'running': {'session_1': {'warmup': {'Z2': 1.5}, 'main': {'interval_1': [{'Z5': 1.0}, {'Z2': 1.0}], 'interval_2': [{'Z5': 1.0}, {'Z2': 1.0}]}, 'cooldown': {'Z2': 1.5}}}, 'strength': 0, 'alternative': 0.5}, 'day_2': {'running': {'session_1': {'warmup': {'Z2': 1.5}, 'main': {'interval_1': [{'Z5': 1.0}, {'Z2': 1.0}]}, 'cooldown': {'Z2': 1.5}}}, 'strength': 0, 'alternative': 0.5}, 'day_3': {'running': {'session_1': {'warmup': {'Z2': 1.5}, 'main': {'interval_1': [{'Z5': 1.0}, {'Z2': 1.0}], 'interval_2': [{'Z5': 1.0}, {'Z2': 1.0}]}, 'cooldown': {'Z2': 1.5}}}, 'strength': 0, 'alternative': 0.5}, 'day_4': {'running': {'session_1': {'warmup': {'Z2': 1.5}, 'main': {'interval_1': [{'Z5': 1.0}, {'Z2': 1.0}]}, 'cooldown': {'Z2': 1.5}}}, 'strength': 0, 'alternative': 0.5}, 'day_5': {'running': {'session_1': {'warmup': {'Z2': 1.5}, 'main': {'interval_1': [{'Z5': 1.0}, {'Z2': 1.0}], 'interval_2': [{'Z5': 1.0}, {'Z2': 1.0}]}, 'cooldown': {'Z2': 1.5}}}, 'strength': 0, 'alternative': 0.5}, 'day_6': {'running': {'session_1': {'warmup': {'Z2': 1.5}, 'main': {'interval_1': [{'Z5': 1.0}, {'Z2': 1.0}]}, 'cooldown': {'Z2': 1.5}}}, 'strength': 0, 'alternative': 0.5}, 'day_7': {'running': {'session_1': {'warmup': {'Z2': 1.5}, 'main': {'interval_1': [{'Z5': 1.0}, {'Z2': 1.0}], 'interval_2': [{'Z5': 1.0}, {'Z2': 1.0}]}, 'cooldown': {'Z2': 1.5}}}, 'strength': 0, 'alternative': 0.5}}\n"
     ]
    }
   ],
   "source": [
    "print(training_plan)"
   ]
  },
  {
   "cell_type": "code",
   "execution_count": null,
   "metadata": {},
   "outputs": [],
   "source": []
  }
 ],
 "metadata": {
  "kernelspec": {
   "display_name": "builder_01",
   "language": "python",
   "name": "python3"
  },
  "language_info": {
   "codemirror_mode": {
    "name": "ipython",
    "version": 3
   },
   "file_extension": ".py",
   "mimetype": "text/x-python",
   "name": "python",
   "nbconvert_exporter": "python",
   "pygments_lexer": "ipython3",
   "version": "3.12.2"
  }
 },
 "nbformat": 4,
 "nbformat_minor": 2
}
